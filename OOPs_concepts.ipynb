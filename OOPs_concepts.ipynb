{
  "nbformat": 4,
  "nbformat_minor": 0,
  "metadata": {
    "colab": {
      "provenance": [],
      "authorship_tag": "ABX9TyN5vgiyJLVtPC9R+FcQ2DLJ",
      "include_colab_link": true
    },
    "kernelspec": {
      "name": "python3",
      "display_name": "Python 3"
    },
    "language_info": {
      "name": "python"
    }
  },
  "cells": [
    {
      "cell_type": "markdown",
      "metadata": {
        "id": "view-in-github",
        "colab_type": "text"
      },
      "source": [
        "<a href=\"https://colab.research.google.com/github/Bhilarevijay/python/blob/main/OOPs_concepts.ipynb\" target=\"_parent\"><img src=\"https://colab.research.google.com/assets/colab-badge.svg\" alt=\"Open In Colab\"/></a>"
      ]
    },
    {
      "cell_type": "markdown",
      "source": [
        "**Print Hello World**"
      ],
      "metadata": {
        "id": "gdNRFxxSJKO5"
      }
    },
    {
      "cell_type": "code",
      "execution_count": null,
      "metadata": {
        "colab": {
          "base_uri": "https://localhost:8080/"
        },
        "id": "TATtv_2pDZaB",
        "outputId": "2c062180-2533-48b6-f7a9-6c52f42fee9d"
      },
      "outputs": [
        {
          "output_type": "stream",
          "name": "stdout",
          "text": [
            "HELLO WORLD\n"
          ]
        }
      ],
      "source": [
        "#Print Hello World\n",
        "print(\"HELLO WORLD\")"
      ]
    },
    {
      "cell_type": "markdown",
      "source": [
        "**Add two numbers**"
      ],
      "metadata": {
        "id": "7olTpI_HJO2h"
      }
    },
    {
      "cell_type": "code",
      "source": [
        "#add two numers\n",
        "n= int(input(\"Enter your 1st number \"))\n",
        "m= int(input(\"Enter your 2nd number \"))\n",
        "num=n+m\n",
        "print (\"sum of {0} and {1} is {2}\".format(n,m,num))"
      ],
      "metadata": {
        "colab": {
          "base_uri": "https://localhost:8080/"
        },
        "id": "FthPK2JzD_Dx",
        "outputId": "e5c73673-1276-4346-f8b7-905ee3b349fe"
      },
      "execution_count": null,
      "outputs": [
        {
          "output_type": "stream",
          "name": "stdout",
          "text": [
            "Enter your 1st number 5\n",
            "Enter your 2nd number 3\n",
            "sum of 5 and 3 is 8\n"
          ]
        }
      ]
    },
    {
      "cell_type": "markdown",
      "source": [
        "**Find the square root**"
      ],
      "metadata": {
        "id": "93SJUbbyFrjn"
      }
    },
    {
      "cell_type": "code",
      "source": [
        "#Find the squareroot\n",
        "n = int(input(\"Enter your number to calculate square root : \"))\n",
        "m = n**0.5\n",
        "print(\"Square root is : \" , m)\n"
      ],
      "metadata": {
        "colab": {
          "base_uri": "https://localhost:8080/"
        },
        "id": "Sz4_ez0nEIWa",
        "outputId": "98f022e1-594c-449a-929d-c5a42dc6c922"
      },
      "execution_count": null,
      "outputs": [
        {
          "output_type": "stream",
          "name": "stdout",
          "text": [
            "Enter your number to calculate square root : 81\n",
            "Square root is :  9.0\n"
          ]
        }
      ]
    },
    {
      "cell_type": "markdown",
      "source": [
        "**Find area of triangle**"
      ],
      "metadata": {
        "id": "iiWaOCdrJ8aC"
      }
    },
    {
      "cell_type": "code",
      "source": [
        "#area of triangle\n",
        "s1 = int(input(\"Enter 1st side of triangle: \"))\n",
        "s2 = int(input(\"Enter 2nd side of triangle: \"))\n",
        "s3 = int(input(\"Enter 3rd side of triangle: \"))\n",
        "#semiperemiter\n",
        "s = (s1+s2+s3)/2\n",
        "\n",
        "#area\n",
        "area = (s*(s-s1)*(s-s2)*(s-s3))**0.5\n",
        "print(\"area of triangle is : \",area)"
      ],
      "metadata": {
        "colab": {
          "base_uri": "https://localhost:8080/"
        },
        "id": "rjb2cZFtI9Od",
        "outputId": "32751064-647f-4945-efa3-2a57c80d3ccb"
      },
      "execution_count": null,
      "outputs": [
        {
          "output_type": "stream",
          "name": "stdout",
          "text": [
            "Enter 1st side of triangle: 3\n",
            "Enter 2nd side of triangle: 4\n",
            "Enter 3rd side of triangle: 5\n",
            "area of triangle is :  6.0\n"
          ]
        }
      ]
    },
    {
      "cell_type": "markdown",
      "source": [
        "**Swap two numbers**"
      ],
      "metadata": {
        "id": "m2SYPtjDMHPq"
      }
    },
    {
      "cell_type": "code",
      "source": [
        "#swaping two numbers\n",
        "n1 = int(input(\"first number : \"))\n",
        "n2 = int(input(\"second number : \"))\n",
        "\n",
        "#add n1 and n2 as n1\n",
        "n1 = n1 +n2\n",
        "\n",
        "#swapping\n",
        "n2 = n1-n2\n",
        "n1 = n1-n2\n",
        "\n",
        "print(\"swapped numbers are \\n n1: \",n1, \"\\n n2:\",n2)\n",
        "\n"
      ],
      "metadata": {
        "colab": {
          "base_uri": "https://localhost:8080/"
        },
        "id": "tkT7BFcVL9D7",
        "outputId": "50f2255d-f86d-4007-9b43-ac6c7176a067"
      },
      "execution_count": null,
      "outputs": [
        {
          "output_type": "stream",
          "name": "stdout",
          "text": [
            "first number : 1\n",
            "second number : 2\n",
            "swapped numbers are \n",
            " n1:  2 \n",
            " n2: 1\n"
          ]
        }
      ]
    },
    {
      "cell_type": "markdown",
      "source": [
        "**Input a int (0-999) and print int entered is 1,2,3 digit number**"
      ],
      "metadata": {
        "id": "LrmBQse8EBXe"
      }
    },
    {
      "cell_type": "code",
      "source": [
        "n1 = int(input(\"Enter your number : \"))\n",
        "\n",
        "# for num < 10\n",
        "if (n1<=9):\n",
        "  print(\"Entered no. is 1 digit no. \")\n",
        "\n",
        "# for num < 100\n",
        "elif (n1<=99):\n",
        "  print(\"Entered no. is 2 digit no. \")\n",
        "\n",
        "# for num < 1000\n",
        "elif (n1<=999):\n",
        "  print(\"Entered no. is 3 digit no. \")\n",
        "\n",
        "else :\n",
        "  print(\"Entered no. is invalid \")"
      ],
      "metadata": {
        "id": "00LwedsWP4HI",
        "colab": {
          "base_uri": "https://localhost:8080/"
        },
        "outputId": "72392322-2623-4ac9-ba69-91b69da5c20d"
      },
      "execution_count": null,
      "outputs": [
        {
          "output_type": "stream",
          "name": "stdout",
          "text": [
            "Enter your number : 9999\n",
            "Entered no. is invalid \n"
          ]
        }
      ]
    },
    {
      "cell_type": "markdown",
      "source": [
        "**Input 3 no.s and print the largest middle and smalest number**"
      ],
      "metadata": {
        "id": "aIvCyI5cIVWJ"
      }
    },
    {
      "cell_type": "code",
      "source": [
        "n1 = int(input(\"Enter your 1st number : \"))\n",
        "n2 = int(input(\"Enter your 2nd number : \"))\n",
        "n3 = int(input(\"Enter your 3rd number : \"))\n",
        "\n",
        "## we can give conditions in single line and call it\n",
        "##        cond1: a>b and b>c and c>d\n",
        "\n",
        "# 1st case\n",
        "if (n1>n2 and n1>n3):\n",
        "  print(\"Largest no. is \",n1)\n",
        "\n",
        "  if (n2<n3):\n",
        "    print(\"Middle no. is\",n3,\"\\nSmallest no. is \",n2)\n",
        "\n",
        "  else :\n",
        "    print(\"Middle no. is\",n2,\"\\nSmallest no. is \",n3)\n",
        "\n",
        "# 2nd case\n",
        "elif (n2>n1 and n2>n3):\n",
        "  print(\"Largest no. is \",n2)\n",
        "\n",
        "  if (n1<n3):\n",
        "    print(\"Middle no. is\",n3,\"\\nSmallest no. is \",n1)\n",
        "\n",
        "  else:\n",
        "    print(\"Middle no. is\",n1,\"\\nSmallest no. is \",n3)\n",
        "\n",
        "# 3rd case\n",
        "elif (n3>n2 and n3>n1):\n",
        "  print(\"Largest no. is \",n3)\n",
        "\n",
        "  if (n2<n1):\n",
        "    print(\"Middle no. is\",n1,\"\\nSmallest no. is \",n2)\n",
        "\n",
        "  else:\n",
        "    print(\"Middle no. is\",n2,\"\\nSmallest no. is \",n1)"
      ],
      "metadata": {
        "id": "YSy2gvkRFQpl",
        "colab": {
          "base_uri": "https://localhost:8080/"
        },
        "outputId": "c6ebf2bf-d473-4363-ccc8-d1ddc5349ff8"
      },
      "execution_count": null,
      "outputs": [
        {
          "output_type": "stream",
          "name": "stdout",
          "text": [
            "Enter your 1st number : 5\n",
            "Enter your 2nd number : 8\n",
            "Enter your 3rd number : 1\n",
            "Largest no. is  8\n",
            "Middle no. is 5 \n",
            "Smallest no. is  1\n"
          ]
        }
      ]
    },
    {
      "cell_type": "markdown",
      "source": [
        "**Write a program to check if the given no. is prime or not**"
      ],
      "metadata": {
        "id": "9_A6sa4iMh1G"
      }
    },
    {
      "cell_type": "code",
      "source": [
        "#input from user\n",
        "n1 = int(input(\"Enter your no. to check \"))\n",
        "\n",
        "#check no. is prime or not\n",
        "count = 0\n",
        "for i in range (2,n1):\n",
        "  if (n1%i==0):\n",
        "    count= count+1\n",
        "  else:\n",
        "    count=count\n",
        "\n",
        "if (count>0):\n",
        "    print(f\"{n1} is prime no. \\n{count} no.s divide {n1}\")\n",
        "\n",
        "else:\n",
        "  print(n1,\"is not prime no.\")\n",
        "\n"
      ],
      "metadata": {
        "colab": {
          "base_uri": "https://localhost:8080/"
        },
        "id": "kw-LXFDmMhAZ",
        "outputId": "5358c274-0b34-458e-8711-437207a793f5"
      },
      "execution_count": null,
      "outputs": [
        {
          "output_type": "stream",
          "name": "stdout",
          "text": [
            "Enter your no. to check 99\n",
            "99 is prime no. \n",
            "4 no.s divide 99\n"
          ]
        }
      ]
    },
    {
      "cell_type": "markdown",
      "source": [
        "##TEMP##"
      ],
      "metadata": {
        "id": "96-uvFMQD6fZ"
      }
    },
    {
      "cell_type": "code",
      "source": [
        "n1 = int(input(\"Enter your 1st number : \"))\n",
        "n2 = int(input(\"Enter your 2nd number : \"))\n",
        "n3 = int(input(\"Enter your 3rd number : \"))\n",
        "\n",
        "num=[n1,n2,n3]\n",
        "num.sort()\n",
        "print (num)"
      ],
      "metadata": {
        "colab": {
          "base_uri": "https://localhost:8080/"
        },
        "id": "CsDVWbHgPHQD",
        "outputId": "9c528331-11ce-4d20-879d-4e90ee16277d"
      },
      "execution_count": null,
      "outputs": [
        {
          "output_type": "stream",
          "name": "stdout",
          "text": [
            "Enter your 1st number : 2\n",
            "Enter your 2nd number : 9\n",
            "Enter your 3rd number : 5\n",
            "[2, 5, 9]\n"
          ]
        }
      ]
    },
    {
      "cell_type": "markdown",
      "source": [
        "**Use function and print \"Hello World\"**\n",
        "\n",
        "*   PARAMETERS\n",
        "*   ARGUMENTS\n",
        "\n"
      ],
      "metadata": {
        "id": "OxEcLDokD-XE"
      }
    },
    {
      "cell_type": "code",
      "source": [
        "def greet (): ## this is called Signature of function\n",
        "  print(\"Hello World\")\n",
        "greet()"
      ],
      "metadata": {
        "id": "qiz4BAI0Q4Sm",
        "colab": {
          "base_uri": "https://localhost:8080/"
        },
        "outputId": "7ab7fd3b-848f-4633-f958-4672c1aafb71"
      },
      "execution_count": null,
      "outputs": [
        {
          "output_type": "stream",
          "name": "stdout",
          "text": [
            "Hello World\n"
          ]
        }
      ]
    },
    {
      "cell_type": "markdown",
      "source": [
        "**Use function and give sum of two numbers and return function**"
      ],
      "metadata": {
        "id": "vu8C7tiMFYAJ"
      }
    },
    {
      "cell_type": "code",
      "source": [
        "\n",
        "def sum ():\n",
        "\n",
        "  n1 = int(input(\"Enter your 1st number : \"))\n",
        "  n2 = int(input(\"Enter your 2nd number : \"))\n",
        "  num=n1+n2\n",
        "  print(f\"Addition of {n1} & {n2} is {num}\")\n",
        "\n",
        "  return num\n",
        "\n",
        "\n"
      ],
      "metadata": {
        "id": "FQtzgGvNEZiX"
      },
      "execution_count": null,
      "outputs": []
    },
    {
      "cell_type": "markdown",
      "source": [
        "**Program that receives two no. in a function and returns the result of all arithmetic operations**"
      ],
      "metadata": {
        "id": "eyv_7po5JBew"
      }
    },
    {
      "cell_type": "code",
      "source": [
        "def cal(n1,n2):\n",
        "  sum=n1+n2\n",
        "  sub=n1-n2\n",
        "  mul=n1*n2\n",
        "  div=n1/n2\n",
        "  mod=n1%n2\n",
        "  return sum,sub,mul,div,mod\n",
        "\n",
        "n1 = int(input(\"Enter your 1st number : \"))\n",
        "n2 = int(input(\"Enter your 2nd number : \"))\n",
        "result=cal(n1,n2)\n",
        "\n",
        "print (f\" sum of the no. is {result[0]} \\n sub of the no. is {result[1]} \\n mul of the no. is {result[2]} \\n div of the no. is {result[3]} \\n mod of the no. is {result[4]}\")"
      ],
      "metadata": {
        "colab": {
          "base_uri": "https://localhost:8080/"
        },
        "id": "wZzrcgzPHgWv",
        "outputId": "d96609da-6140-4cdf-a06f-938dd0a52a8b"
      },
      "execution_count": null,
      "outputs": [
        {
          "output_type": "stream",
          "name": "stdout",
          "text": [
            "Enter your 1st number : 100\n",
            "Enter your 2nd number : 25\n",
            " sum of the no. is 125 \n",
            " sub of the no. is 75 \n",
            " mul of the no. is 2500 \n",
            " div of the no. is 4.0 \n",
            " mod of the no. is 0\n"
          ]
        }
      ]
    },
    {
      "cell_type": "markdown",
      "source": [
        "**SCOPE OF VARIABLES**"
      ],
      "metadata": {
        "id": "Or1EEt7fMiMm"
      }
    },
    {
      "cell_type": "code",
      "source": [
        "def scope():\n",
        "  x=10 #LOCAL VARIABLE\n",
        "  print(\"Inside def x = \",x)\n",
        "\n",
        "x=20 #GLOBAL VARIABLE\n",
        "print(\"Before fun call value of x \",x)\n",
        "scope()\n",
        "print(\"Value of x after fun call \",x)\n"
      ],
      "metadata": {
        "colab": {
          "base_uri": "https://localhost:8080/"
        },
        "id": "RGgssIEkKsXf",
        "outputId": "a1e26078-f9d4-4025-90e3-4385aef5377a"
      },
      "execution_count": null,
      "outputs": [
        {
          "output_type": "stream",
          "name": "stdout",
          "text": [
            "Before fun call value of x  20\n",
            "Inside def x =  10\n",
            "Value of x after fun call  20\n"
          ]
        }
      ]
    },
    {
      "cell_type": "code",
      "source": [
        "def scope():\n",
        "  global x\n",
        "  x=10\n",
        "  print(\"Inside def x = \",x)\n",
        "\n",
        "x=20 #GLOBAL VARIABLE\n",
        "print(\"Before fun call value of x \",x)\n",
        "scope()\n",
        "print(\"Value of x after fun call \",x)\n"
      ],
      "metadata": {
        "colab": {
          "base_uri": "https://localhost:8080/"
        },
        "id": "iiCE0H6sOW7y",
        "outputId": "fcd4717d-6d4e-4f83-e092-242b947b03aa"
      },
      "execution_count": null,
      "outputs": [
        {
          "output_type": "stream",
          "name": "stdout",
          "text": [
            "Before fun call value of x  20\n",
            "Inside def x =  10\n",
            "Value of x after fun call  10\n"
          ]
        }
      ]
    },
    {
      "cell_type": "markdown",
      "source": [
        "**VARIABLE LENGTH ARGUMENTS**"
      ],
      "metadata": {
        "id": "KWxNyG11PecU"
      }
    },
    {
      "cell_type": "code",
      "source": [
        "def callfun(name,*data):   # * is args (VARIABLE ARGUMENTS)\n",
        "  print(name)\n",
        "  print(data)\n",
        "\n",
        "callfun('Vijay',18,'Pune',456654654)"
      ],
      "metadata": {
        "colab": {
          "base_uri": "https://localhost:8080/"
        },
        "id": "eLmPSr7IPZe5",
        "outputId": "64493b65-8c99-4159-c4ce-e0bfa9054958"
      },
      "execution_count": null,
      "outputs": [
        {
          "output_type": "stream",
          "name": "stdout",
          "text": [
            "Vijay\n",
            "(18, 'Pune', 456654654)\n"
          ]
        }
      ]
    },
    {
      "cell_type": "code",
      "source": [
        "def callfun(name,**data):  # ** is kwargs (KEYWORD VARIABLE ARGUMENTS)\n",
        "  print(name)\n",
        "  print(data)\n",
        "\n",
        "callfun(name='Vijay',age=18,place='Pune',ph =456654654)"
      ],
      "metadata": {
        "colab": {
          "base_uri": "https://localhost:8080/"
        },
        "id": "-7TLdZ8tQVws",
        "outputId": "fcb10527-6987-4d7d-9ee2-1a52b58f4ecf"
      },
      "execution_count": null,
      "outputs": [
        {
          "output_type": "stream",
          "name": "stdout",
          "text": [
            "Vijay\n",
            "{'age': 18, 'place': 'Pune', 'ph': 456654654}\n"
          ]
        }
      ]
    },
    {
      "cell_type": "code",
      "source": [
        "def callfun(name,**data):\n",
        "  print(name)\n",
        "  for i in data:\n",
        "    print (f\"{i} : {data[i]}\")\n",
        "\n",
        "callfun(name='Vijay',age=18,place='Pune',ph =456654654)"
      ],
      "metadata": {
        "colab": {
          "base_uri": "https://localhost:8080/"
        },
        "id": "HFSzNqahRROW",
        "outputId": "9e94d434-83e8-49db-f171-ab4c306601c1"
      },
      "execution_count": null,
      "outputs": [
        {
          "output_type": "stream",
          "name": "stdout",
          "text": [
            "Vijay\n",
            "age : 18\n",
            "place : Pune\n",
            "ph : 456654654\n"
          ]
        }
      ]
    },
    {
      "cell_type": "markdown",
      "source": [
        "**Define count of odd and even no.s in a list**"
      ],
      "metadata": {
        "id": "74U8cNLBY3Ca"
      }
    },
    {
      "cell_type": "code",
      "source": [
        "def odd_even (list_1):\n",
        "  count1=0\n",
        "  count2=0\n",
        "  for num in list_1:\n",
        "    if num%2==0:\n",
        "      count1+=1\n",
        "\n",
        "    else:\n",
        "      count2+=1\n",
        "\n",
        "  return count1,count2\n",
        "\n",
        "list_1 = [10,12,23,45,63]\n",
        "\n",
        "result = odd_even (list_1)\n",
        "print (f\" no. of odd no.s is {result[1]} \\n no. of even no.s is {result[0]}\")"
      ],
      "metadata": {
        "colab": {
          "base_uri": "https://localhost:8080/"
        },
        "id": "2l0dsInIS70O",
        "outputId": "b48de324-2c77-4b6f-e32f-f5a1eb9cb4d9"
      },
      "execution_count": null,
      "outputs": [
        {
          "output_type": "stream",
          "name": "stdout",
          "text": [
            " no. of odd no.s is 3 \n",
            " no. of even no.s is 2\n"
          ]
        }
      ]
    },
    {
      "cell_type": "code",
      "source": [
        "def greet():\n",
        "  print(\"Hello World\")\n",
        "\n",
        "greet()\n",
        "print(\"Inside\",__name__) # __name__ (special variable)"
      ],
      "metadata": {
        "id": "F8ofiiGlYlCr",
        "colab": {
          "base_uri": "https://localhost:8080/"
        },
        "outputId": "4f3c47b5-78a6-404c-ebd6-a3a935b1992c"
      },
      "execution_count": null,
      "outputs": [
        {
          "output_type": "stream",
          "name": "stdout",
          "text": [
            "Hello World\n",
            "Inside __main__\n"
          ]
        }
      ]
    },
    {
      "cell_type": "code",
      "source": [
        "def greet():\n",
        "  print(\"Hello World\")\n",
        "  greet()\n",
        "\n",
        "greet()"
      ],
      "metadata": {
        "id": "-ZGF8YhPHkhG"
      },
      "execution_count": null,
      "outputs": []
    },
    {
      "cell_type": "markdown",
      "source": [
        "**Lambda Functions**"
      ],
      "metadata": {
        "id": "VtQNnTNmILf5"
      }
    },
    {
      "cell_type": "code",
      "source": [
        "greet = lambda:print(\"Hello World\")\n",
        "greet()"
      ],
      "metadata": {
        "colab": {
          "base_uri": "https://localhost:8080/"
        },
        "id": "gE0w1a2NH9Wv",
        "outputId": "96cbd439-e91e-4fcc-935a-7e691386940d"
      },
      "execution_count": null,
      "outputs": [
        {
          "output_type": "stream",
          "name": "stdout",
          "text": [
            "Hello World\n"
          ]
        }
      ]
    },
    {
      "cell_type": "code",
      "source": [
        "square = lambda a: a*a\n",
        "result = square(5)\n",
        "print(\"Result is : \",result)"
      ],
      "metadata": {
        "colab": {
          "base_uri": "https://localhost:8080/"
        },
        "id": "hm4ZDb_5JCFf",
        "outputId": "272e1a95-30c6-4f5d-fd52-e96515ed5805"
      },
      "execution_count": null,
      "outputs": [
        {
          "output_type": "stream",
          "name": "stdout",
          "text": [
            "Result is :  25\n"
          ]
        }
      ]
    },
    {
      "cell_type": "code",
      "source": [
        "sum = lambda a,b: a+b\n",
        "result = sum(4,9)\n",
        "print(\"Result is : \",result)"
      ],
      "metadata": {
        "colab": {
          "base_uri": "https://localhost:8080/"
        },
        "id": "FPl83q5lKVnw",
        "outputId": "c807d9e5-d109-4c47-e19d-6f986fb56d96"
      },
      "execution_count": null,
      "outputs": [
        {
          "output_type": "stream",
          "name": "stdout",
          "text": [
            "Result is :  13\n"
          ]
        }
      ]
    },
    {
      "cell_type": "markdown",
      "source": [
        "**LIST Comprihensions**"
      ],
      "metadata": {
        "id": "CnZx3PBWMwXY"
      }
    },
    {
      "cell_type": "code",
      "source": [
        "def square (lst):\n",
        "  for i in lst:\n",
        "    return i*2\n",
        "\n",
        "l = [1,2,3,4,5]\n",
        "sq=square(l)\n",
        "print(sq)"
      ],
      "metadata": {
        "colab": {
          "base_uri": "https://localhost:8080/"
        },
        "id": "qlTWG0T2Mlzs",
        "outputId": "e4b9e4a0-53b0-49b7-8e73-a17d3f6f850b"
      },
      "execution_count": null,
      "outputs": [
        {
          "output_type": "stream",
          "name": "stdout",
          "text": [
            "2\n"
          ]
        }
      ]
    },
    {
      "cell_type": "code",
      "source": [
        "def square (l1):\n",
        "  l2=[]\n",
        "  for i in l1:\n",
        "    l2.append (i*2)\n",
        "  return l2\n",
        "\n",
        "l1 = [1,2,3,4,5]\n",
        "print(square(l1))"
      ],
      "metadata": {
        "colab": {
          "base_uri": "https://localhost:8080/"
        },
        "id": "gL4YouuNNWwU",
        "outputId": "18469c4b-8c36-43db-9599-4d40cc5b2010"
      },
      "execution_count": null,
      "outputs": [
        {
          "output_type": "stream",
          "name": "stdout",
          "text": [
            "[2, 4, 6, 8, 10]\n"
          ]
        }
      ]
    },
    {
      "cell_type": "code",
      "source": [
        "# LIST COMPRENSION #\n",
        "l1=[1,2,3,4,5]\n",
        "l2=[i*2 for i in l1]\n",
        "print(l2)"
      ],
      "metadata": {
        "colab": {
          "base_uri": "https://localhost:8080/"
        },
        "id": "BMZBeVRROyRb",
        "outputId": "6c023d70-37c2-49e0-ce21-0aafef4a7d58"
      },
      "execution_count": null,
      "outputs": [
        {
          "output_type": "stream",
          "name": "stdout",
          "text": [
            "[2, 4, 6, 8, 10]\n"
          ]
        }
      ]
    },
    {
      "cell_type": "markdown",
      "source": [
        "**Find even no.s in range(1,10)**"
      ],
      "metadata": {
        "id": "un-un9FyQlFb"
      }
    },
    {
      "cell_type": "code",
      "source": [
        "l1=[i for i in range(1,10) if i%2 == 0]\n",
        "print(l1)"
      ],
      "metadata": {
        "colab": {
          "base_uri": "https://localhost:8080/"
        },
        "id": "2JlLguV5QV3C",
        "outputId": "a935c189-eff7-450d-a797-4c975ef8dd7f"
      },
      "execution_count": null,
      "outputs": [
        {
          "output_type": "stream",
          "name": "stdout",
          "text": [
            "[2, 4, 6, 8]\n"
          ]
        }
      ]
    },
    {
      "cell_type": "markdown",
      "source": [
        "**Find the even no. which are divisible by 5 in range(1,100)**"
      ],
      "metadata": {
        "id": "3x7hq-1YSTKq"
      }
    },
    {
      "cell_type": "code",
      "source": [
        "l1=[i for i in range(1,100) if i%5==0 and i%2==0 ]\n",
        "print(l1)"
      ],
      "metadata": {
        "colab": {
          "base_uri": "https://localhost:8080/"
        },
        "id": "5gGfYjTCRVsS",
        "outputId": "6c049a40-e9dc-402a-d156-1a1638e38b06"
      },
      "execution_count": null,
      "outputs": [
        {
          "output_type": "stream",
          "name": "stdout",
          "text": [
            "[10, 20, 30, 40, 50, 60, 70, 80, 90]\n"
          ]
        }
      ]
    },
    {
      "cell_type": "code",
      "source": [],
      "metadata": {
        "id": "Z02I9Z4sSuW8"
      },
      "execution_count": null,
      "outputs": []
    }
  ]
}