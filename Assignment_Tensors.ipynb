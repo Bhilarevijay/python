{
  "nbformat": 4,
  "nbformat_minor": 0,
  "metadata": {
    "colab": {
      "provenance": [],
      "authorship_tag": "ABX9TyOQTQlcyFEdSoItLoS8aQOt",
      "include_colab_link": true
    },
    "kernelspec": {
      "name": "python3",
      "display_name": "Python 3"
    },
    "language_info": {
      "name": "python"
    }
  },
  "cells": [
    {
      "cell_type": "markdown",
      "metadata": {
        "id": "view-in-github",
        "colab_type": "text"
      },
      "source": [
        "<a href=\"https://colab.research.google.com/github/Bhilarevijay/python/blob/main/Assignment_Tensors.ipynb\" target=\"_parent\"><img src=\"https://colab.research.google.com/assets/colab-badge.svg\" alt=\"Open In Colab\"/></a>"
      ]
    },
    {
      "cell_type": "code",
      "execution_count": 15,
      "metadata": {
        "colab": {
          "base_uri": "https://localhost:8080/"
        },
        "id": "hRzrx05aXoJS",
        "outputId": "52903bd7-60fd-487d-ec51-580be39633d2"
      },
      "outputs": [
        {
          "output_type": "stream",
          "name": "stdout",
          "text": [
            "1D to 2D:\n",
            " [[ 1  2]\n",
            " [ 3  4]\n",
            " [ 5  6]\n",
            " [ 7  8]\n",
            " [ 9 10]]\n"
          ]
        }
      ],
      "source": [
        "import numpy as np\n",
        "import tensorflow as tf\n",
        "\n",
        "# 1D tensor from 1 to 10\n",
        "tensor_1d = np.arange(1, 11)\n",
        "# Reshape to 5 rows, 2 columns\n",
        "tensor_2d = tensor_1d.reshape((5, 2))\n",
        "print(\"1D to 2D:\\n\", tensor_2d)\n"
      ]
    },
    {
      "cell_type": "code",
      "source": [
        "tensor_3d = np.random.randint(0, 10, size=(2, 3, 4))\n",
        "print(\"3D Tensor:\\n\", tensor_3d)\n"
      ],
      "metadata": {
        "colab": {
          "base_uri": "https://localhost:8080/"
        },
        "id": "6eAeSi0vXvHQ",
        "outputId": "70185fd5-9005-4128-a6c6-0a09d7afe3b3"
      },
      "execution_count": 16,
      "outputs": [
        {
          "output_type": "stream",
          "name": "stdout",
          "text": [
            "3D Tensor:\n",
            " [[[8 6 8 7]\n",
            "  [5 2 3 1]\n",
            "  [3 9 7 8]]\n",
            "\n",
            " [[3 4 9 4]\n",
            "  [1 9 0 6]\n",
            "  [4 5 9 7]]]\n"
          ]
        }
      ]
    },
    {
      "cell_type": "code",
      "source": [
        "tf_tensor = tf.ones((3, 3))\n",
        "added_tensor = tf_tensor + 5\n",
        "multiplied_tensor = added_tensor * 3\n",
        "print(\"Tensor after adding 5 and multiplying by 3:\\n\", multiplied_tensor)\n"
      ],
      "metadata": {
        "colab": {
          "base_uri": "https://localhost:8080/"
        },
        "id": "qDvb-YIHX3gR",
        "outputId": "b1eb9363-751a-4bca-86e5-9ecf33dd25f5"
      },
      "execution_count": 17,
      "outputs": [
        {
          "output_type": "stream",
          "name": "stdout",
          "text": [
            "Tensor after adding 5 and multiplying by 3:\n",
            " tf.Tensor(\n",
            "[[18. 18. 18.]\n",
            " [18. 18. 18.]\n",
            " [18. 18. 18.]], shape=(3, 3), dtype=float32)\n"
          ]
        }
      ]
    },
    {
      "cell_type": "code",
      "source": [
        "def tf_dot_product(tensor_a, tensor_b):\n",
        "    return tf.matmul(tensor_a, tensor_b)\n",
        "\n",
        "# Sample input\n",
        "a = tf.constant([[1, 2], [3, 4]])\n",
        "b = tf.constant([[5, 6], [7, 8]])\n",
        "result = tf_dot_product(a, b)\n",
        "print(\"Dot product:\\n\", result.numpy())\n"
      ],
      "metadata": {
        "colab": {
          "base_uri": "https://localhost:8080/"
        },
        "id": "ajr5c0doYEfw",
        "outputId": "237f7674-d8f2-4044-99e8-3c31389d21be"
      },
      "execution_count": 18,
      "outputs": [
        {
          "output_type": "stream",
          "name": "stdout",
          "text": [
            "Dot product:\n",
            " [[19 22]\n",
            " [43 50]]\n"
          ]
        }
      ]
    },
    {
      "cell_type": "code",
      "source": [
        "A = np.random.randint(1, 10, size=(3, 2))\n",
        "B = np.random.randint(1, 10, size=(2, 3))\n",
        "product = np.matmul(A, B)\n",
        "print(\"Matrix multiplication result:\\n\", product)\n"
      ],
      "metadata": {
        "colab": {
          "base_uri": "https://localhost:8080/"
        },
        "id": "1qhg1qxgYHPD",
        "outputId": "0587c7cb-1f97-4d35-ec4b-3f15b79cdbde"
      },
      "execution_count": 19,
      "outputs": [
        {
          "output_type": "stream",
          "name": "stdout",
          "text": [
            "Matrix multiplication result:\n",
            " [[ 49 104  27]\n",
            " [ 21  72  23]\n",
            " [ 28  80  24]]\n"
          ]
        }
      ]
    },
    {
      "cell_type": "code",
      "source": [
        "def slice_tensor(tensor):\n",
        "    return tensor[:2, :, -1]\n",
        "\n",
        "# Using the tensor_3d from earlier\n",
        "sliced = slice_tensor(tensor_3d)\n",
        "print(\"Sliced 3D tensor (first 2 rows, all cols, last depth slice):\\n\", sliced)\n"
      ],
      "metadata": {
        "colab": {
          "base_uri": "https://localhost:8080/"
        },
        "id": "710q16bYYJ2O",
        "outputId": "ce80a8c8-f047-4e79-bf84-fe17b1ffbcc4"
      },
      "execution_count": 20,
      "outputs": [
        {
          "output_type": "stream",
          "name": "stdout",
          "text": [
            "Sliced 3D tensor (first 2 rows, all cols, last depth slice):\n",
            " [[7 1 8]\n",
            " [4 6 7]]\n"
          ]
        }
      ]
    },
    {
      "cell_type": "code",
      "source": [
        "zeros = tf.zeros((4, 4))\n",
        "ones = tf.ones((4, 4))\n",
        "concat_tensor = tf.concat([zeros, ones], axis=0)\n",
        "print(\"Concatenated tensor along rows:\\n\", concat_tensor)\n"
      ],
      "metadata": {
        "colab": {
          "base_uri": "https://localhost:8080/"
        },
        "id": "HW2aP90fYMmM",
        "outputId": "b6c60efe-7e61-4a70-bbb2-94ce37a69051"
      },
      "execution_count": 21,
      "outputs": [
        {
          "output_type": "stream",
          "name": "stdout",
          "text": [
            "Concatenated tensor along rows:\n",
            " tf.Tensor(\n",
            "[[0. 0. 0. 0.]\n",
            " [0. 0. 0. 0.]\n",
            " [0. 0. 0. 0.]\n",
            " [0. 0. 0. 0.]\n",
            " [1. 1. 1. 1.]\n",
            " [1. 1. 1. 1.]\n",
            " [1. 1. 1. 1.]\n",
            " [1. 1. 1. 1.]], shape=(8, 4), dtype=float32)\n"
          ]
        }
      ]
    },
    {
      "cell_type": "code",
      "source": [
        "tensor = tf.Variable(tf.zeros((5, 5)))\n",
        "tensor[1:4, 1:4].assign(tf.ones((3, 3)))\n",
        "print(\"Updated tensor with 1s in the middle:\\n\", tensor.numpy())\n"
      ],
      "metadata": {
        "colab": {
          "base_uri": "https://localhost:8080/"
        },
        "id": "2b2b-y77YPb8",
        "outputId": "8611cb73-f538-449f-8c11-51c0c67457f1"
      },
      "execution_count": 22,
      "outputs": [
        {
          "output_type": "stream",
          "name": "stdout",
          "text": [
            "Updated tensor with 1s in the middle:\n",
            " [[0. 0. 0. 0. 0.]\n",
            " [0. 1. 1. 1. 0.]\n",
            " [0. 1. 1. 1. 0.]\n",
            " [0. 1. 1. 1. 0.]\n",
            " [0. 0. 0. 0. 0.]]\n"
          ]
        }
      ]
    },
    {
      "cell_type": "code",
      "source": [
        "tensor_np = np.random.randint(5, 15, size=(4, 4))\n",
        "tensor_np -= 3\n",
        "reshaped_np = tensor_np.reshape((2, 8))\n",
        "print(\"Subtracted 3 and reshaped:\\n\", reshaped_np)\n"
      ],
      "metadata": {
        "colab": {
          "base_uri": "https://localhost:8080/"
        },
        "id": "NxOB6DVgYRc-",
        "outputId": "77f0a1b8-dbcd-44da-9e39-b090968535ac"
      },
      "execution_count": 23,
      "outputs": [
        {
          "output_type": "stream",
          "name": "stdout",
          "text": [
            "Subtracted 3 and reshaped:\n",
            " [[ 9 10 10  4 10 11  6 11]\n",
            " [10  3  2  5  2  2  7  6]]\n"
          ]
        }
      ]
    },
    {
      "cell_type": "code",
      "source": [
        "rand_tensor = tf.random.uniform((2, 2), minval=0, maxval=10, dtype=tf.int32)\n",
        "result_tensor = rand_tensor - 3\n",
        "print(\"Random tensor - 3:\\n\", result_tensor.numpy())\n"
      ],
      "metadata": {
        "colab": {
          "base_uri": "https://localhost:8080/"
        },
        "id": "qXQNEatOYVEd",
        "outputId": "01d77efe-d86a-492e-9fad-94dc3bc50be7"
      },
      "execution_count": 24,
      "outputs": [
        {
          "output_type": "stream",
          "name": "stdout",
          "text": [
            "Random tensor - 3:\n",
            " [[ 6 -2]\n",
            " [ 4  4]]\n"
          ]
        }
      ]
    },
    {
      "cell_type": "code",
      "source": [],
      "metadata": {
        "id": "P-gkKiUfYXCC"
      },
      "execution_count": 24,
      "outputs": []
    }
  ]
}