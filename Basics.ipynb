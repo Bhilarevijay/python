{
  "nbformat": 4,
  "nbformat_minor": 0,
  "metadata": {
    "colab": {
      "provenance": [],
      "authorship_tag": "ABX9TyMLRzMkiiN1iB/KXT+5t1qd",
      "include_colab_link": true
    },
    "kernelspec": {
      "name": "python3",
      "display_name": "Python 3"
    },
    "language_info": {
      "name": "python"
    }
  },
  "cells": [
    {
      "cell_type": "markdown",
      "metadata": {
        "id": "view-in-github",
        "colab_type": "text"
      },
      "source": [
        "<a href=\"https://colab.research.google.com/github/Bhilarevijay/python/blob/main/Basics.ipynb\" target=\"_parent\"><img src=\"https://colab.research.google.com/assets/colab-badge.svg\" alt=\"Open In Colab\"/></a>"
      ]
    },
    {
      "cell_type": "markdown",
      "source": [
        "**Template of class**\n",
        "\n",
        "class <name of the class>:\n",
        "----------}attributes\n",
        "\n",
        "----------}behavior\n",
        "\n",
        "create obj of the class\n",
        "obj.<-->"
      ],
      "metadata": {
        "id": "djBO9SWzVn9p"
      }
    },
    {
      "cell_type": "code",
      "source": [
        "class sample:\n",
        "  def greet(self):\n",
        "    print(\"Hello World\")                    ##  METHOD 1 Call using object##\n",
        "\n",
        "obj=sample()\n",
        "obj.greet()"
      ],
      "metadata": {
        "colab": {
          "base_uri": "https://localhost:8080/"
        },
        "id": "U-pRsGGdVmy5",
        "outputId": "937e7bbc-1323-4a2b-871c-e283f5867129"
      },
      "execution_count": null,
      "outputs": [
        {
          "output_type": "stream",
          "name": "stdout",
          "text": [
            "Hello World\n"
          ]
        }
      ]
    },
    {
      "cell_type": "markdown",
      "source": [],
      "metadata": {
        "id": "W_OHeaqDViju"
      }
    },
    {
      "cell_type": "code",
      "source": [
        "class sample:\n",
        "  def greet(self):\n",
        "    print(\"Hello World\")                    ##  METHOD 2 Call using class##\n",
        "\n",
        "obj=sample()\n",
        "sample.greet(obj)"
      ],
      "metadata": {
        "colab": {
          "base_uri": "https://localhost:8080/"
        },
        "id": "D3lD5N14VgFw",
        "outputId": "e1350df9-e0ac-4617-cfd4-bb45cdbb565a"
      },
      "execution_count": null,
      "outputs": [
        {
          "output_type": "stream",
          "name": "stdout",
          "text": [
            "Hello World\n"
          ]
        }
      ]
    },
    {
      "cell_type": "markdown",
      "source": [
        "**Special Method**"
      ],
      "metadata": {
        "id": "NXvlgESSVdFt"
      }
    },
    {
      "cell_type": "code",
      "execution_count": null,
      "metadata": {
        "colab": {
          "base_uri": "https://localhost:8080/"
        },
        "id": "lhI4g_3QUyf0",
        "outputId": "3053ff8d-562d-40a7-d98e-0a3d1e36b36e"
      },
      "outputs": [
        {
          "output_type": "stream",
          "name": "stdout",
          "text": [
            "hi i am init\n",
            "Hello World\n"
          ]
        }
      ],
      "source": [
        "class sample:\n",
        "\n",
        "  def __init__(self) :\n",
        "    print(\"hi i am init\")\n",
        "\n",
        "  def greet(self) :\n",
        "    print(\"Hello World\")\n",
        "\n",
        "obj=sample()\n",
        "sample.greet(obj)"
      ]
    },
    {
      "cell_type": "code",
      "source": [
        "class sample:\n",
        "\n",
        "  def __init__(self,name,age) :\n",
        "    self.name=name\n",
        "    self.age=age\n",
        "\n",
        "  def display (self):\n",
        "    print(self.name)\n",
        "    print(self.age)\n",
        "\n",
        "obj1=sample(\"abc\",18)\n",
        "obj2=sample(\"xyz\",19)\n",
        "obj1.display()\n",
        "obj1.name=\"harry\"\n",
        "obj1.display()\n",
        "obj2.display"
      ],
      "metadata": {
        "colab": {
          "base_uri": "https://localhost:8080/"
        },
        "id": "_s5SCffvYq76",
        "outputId": "9327f368-70a3-48e0-8b0f-93f4915527d2"
      },
      "execution_count": null,
      "outputs": [
        {
          "output_type": "stream",
          "name": "stdout",
          "text": [
            "abc\n",
            "18\n",
            "harry\n",
            "18\n"
          ]
        }
      ]
    },
    {
      "cell_type": "code",
      "source": [
        "class sample:\n",
        "  z=10\n",
        "\n",
        "  def __init__(self,name,age) :\n",
        "    self.name=name\n",
        "    self.age=age\n",
        "\n",
        "  def display (self):\n",
        "    print(self.name,self.age)\n",
        "\n",
        "  def show(ds):\n",
        "    print(ds.z)\n",
        "\n",
        "obj=sample(\"xyz\",17)\n",
        "obj.display()\n",
        "# sample.show()"
      ],
      "metadata": {
        "id": "v4wi8ETAbrR2",
        "colab": {
          "base_uri": "https://localhost:8080/"
        },
        "outputId": "4e7185b7-56ac-4484-95df-22a66befe2d1"
      },
      "execution_count": null,
      "outputs": [
        {
          "output_type": "stream",
          "name": "stdout",
          "text": [
            "xyz 17\n"
          ]
        }
      ]
    },
    {
      "cell_type": "markdown",
      "source": [
        "**CLASS METHOD (DECORATORS)**"
      ],
      "metadata": {
        "id": "ARYrOzfUP75Z"
      }
    },
    {
      "cell_type": "code",
      "source": [
        "class sample:\n",
        "  z=10\n",
        "\n",
        "  def __init__(self,name,age) :\n",
        "    self.name=name\n",
        "    self.age=age\n",
        "\n",
        "  def display (self):\n",
        "    print(self.name,self.age)\n",
        "\n",
        "  @classmethod\n",
        "  def show(cls):\n",
        "    print(cls.z)\n",
        "\n",
        "  @staticmethod\n",
        "  def config():\n",
        "    print(\"iam in config method\")\n",
        "\n",
        "obj=sample(\"xyz\",17)\n",
        "obj.display()\n",
        "sample.show()\n",
        "sample.config()"
      ],
      "metadata": {
        "id": "dPN8zwijNYyL",
        "colab": {
          "base_uri": "https://localhost:8080/"
        },
        "outputId": "96d1e63f-86ea-484b-fca2-790e19a9e735"
      },
      "execution_count": null,
      "outputs": [
        {
          "output_type": "stream",
          "name": "stdout",
          "text": [
            "xyz 17\n",
            "10\n",
            "iam in config method\n"
          ]
        }
      ]
    },
    {
      "cell_type": "markdown",
      "source": [
        "**CLASS WITHIN A CLASS**"
      ],
      "metadata": {
        "id": "DlQsKi49RYjw"
      }
    },
    {
      "cell_type": "code",
      "source": [
        "class Sample:\n",
        "\n",
        "  def __init__(self,m1,m2) :\n",
        "    self.m1=m1\n",
        "    self.m2=m2\n",
        "\n",
        "  def display (self):\n",
        "    print(self.m1,self.m2)\n",
        "\n",
        "  class Book:\n",
        "\n",
        "    def __init__(self,name,cost):\n",
        "      self.name=name\n",
        "      self.cost=cost\n",
        "\n",
        "    def show(self):\n",
        "      print(self.name,self.cost)\n",
        "\n",
        "obj1=Sample(\"xz\",17)\n",
        "obj1.display()\n",
        "\n",
        "obj2=Sample.Book(\"ab\",100)\n",
        "obj2.show()"
      ],
      "metadata": {
        "colab": {
          "base_uri": "https://localhost:8080/"
        },
        "id": "t-glZiy0Qnsa",
        "outputId": "8b90e7e9-4687-4128-a62d-f81936dfe65b"
      },
      "execution_count": null,
      "outputs": [
        {
          "output_type": "stream",
          "name": "stdout",
          "text": [
            "xz 17\n",
            "ab 100\n"
          ]
        }
      ]
    },
    {
      "cell_type": "markdown",
      "source": [],
      "metadata": {
        "id": "WVDlyi_HXFOd"
      }
    },
    {
      "cell_type": "markdown",
      "source": [
        "**Creating obj in obj for the class in class**"
      ],
      "metadata": {
        "id": "ZCohchAuV-j2"
      }
    },
    {
      "cell_type": "code",
      "source": [
        "class Sample:\n",
        "\n",
        "  def __init__(self,m1,m2) :\n",
        "    self.m1=m1\n",
        "    self.m2=m2\n",
        "    self.obj2=self.Book(\"python\",200)     #obj for Book class in Sample class\n",
        "\n",
        "  def display (self):\n",
        "    print(self.m1,self.m2)\n",
        "\n",
        "  class Book:\n",
        "\n",
        "    def __init__(self,name,cost):\n",
        "      self.name=name\n",
        "      self.cost=cost\n",
        "\n",
        "    def show(self):\n",
        "      print(self.name,self.cost)\n",
        "\n",
        "obj1=Sample(\"xz\",17)\n",
        "obj1.display()\n",
        "\n",
        "obj1.obj2.show() #1\n",
        "print(obj1.m1)\n",
        "\n",
        "b=obj1.obj2      #2\n",
        "b.show()"
      ],
      "metadata": {
        "colab": {
          "base_uri": "https://localhost:8080/"
        },
        "id": "gTUQiGfYSrvT",
        "outputId": "8e708597-1b1b-4f8f-c596-3fe188673524"
      },
      "execution_count": null,
      "outputs": [
        {
          "output_type": "stream",
          "name": "stdout",
          "text": [
            "xz 17\n",
            "python 200\n",
            "xz\n",
            "python 200\n"
          ]
        }
      ]
    },
    {
      "cell_type": "markdown",
      "source": [
        "**INHERITANCE**\n",
        "\n",
        "**1. Single level**\n",
        "**2. Multi-level**\n",
        "**3. Multiple**"
      ],
      "metadata": {
        "id": "b3SPXLiaYWlq"
      }
    },
    {
      "cell_type": "code",
      "source": [
        "#MULTI-LEVEL\n",
        "class A:\n",
        "  def feature1(self):\n",
        "    print(\"A feaure1\")\n",
        "\n",
        "class B(A):\n",
        "  def feature2(self):\n",
        "    print(\"B feature2\")\n",
        "\n",
        "class C(B):\n",
        "  def feature3(self):\n",
        "    print(\"C feature3\")\n",
        "\n",
        "obj=C()\n",
        "obj.feature1()\n",
        "obj.feature2()\n",
        "obj.feature3()"
      ],
      "metadata": {
        "colab": {
          "base_uri": "https://localhost:8080/"
        },
        "id": "0MM5-_9RV3Bf",
        "outputId": "19b236e3-b41e-41f0-fa2d-5021862ef7a2"
      },
      "execution_count": null,
      "outputs": [
        {
          "output_type": "stream",
          "name": "stdout",
          "text": [
            "A feaure1\n",
            "B feature2\n",
            "C feature3\n"
          ]
        }
      ]
    },
    {
      "cell_type": "code",
      "source": [
        "#MULTIPLE\n",
        "class A:\n",
        "\n",
        "  def __init__(self,f1,f2):\n",
        "    self.f1=f1\n",
        "    self.f2=f2\n",
        "\n",
        "  def feature1(self):\n",
        "    print(self.f1,self.f2)\n",
        "\n",
        "class B:\n",
        "  def __init__(self,f1,f2):\n",
        "    self.f1=f1\n",
        "    self.f2=f2\n",
        "\n",
        "  def feature1(self):\n",
        "    print(self.f1,self.f2)\n",
        "\n",
        "class C(A,B):\n",
        "  def feature3(self):\n",
        "    print(\"C feature3\")\n",
        "\n",
        "obj=C()\n",
        "obj.feature1()\n",
        "obj.feature2()\n",
        "obj.feature3()\n"
      ],
      "metadata": {
        "id": "Fe63_8ZcZR6V",
        "colab": {
          "base_uri": "https://localhost:8080/",
          "height": 211
        },
        "outputId": "cd2872da-2ff5-4b5d-dac5-15b448b1c298"
      },
      "execution_count": null,
      "outputs": [
        {
          "output_type": "error",
          "ename": "TypeError",
          "evalue": "A.__init__() missing 2 required positional arguments: 'f1' and 'f2'",
          "traceback": [
            "\u001b[0;31m---------------------------------------------------------------------------\u001b[0m",
            "\u001b[0;31mTypeError\u001b[0m                                 Traceback (most recent call last)",
            "\u001b[0;32m<ipython-input-1-7a542429354a>\u001b[0m in \u001b[0;36m<cell line: 0>\u001b[0;34m()\u001b[0m\n\u001b[1;32m     21\u001b[0m     \u001b[0mprint\u001b[0m\u001b[0;34m(\u001b[0m\u001b[0;34m\"C feature3\"\u001b[0m\u001b[0;34m)\u001b[0m\u001b[0;34m\u001b[0m\u001b[0;34m\u001b[0m\u001b[0m\n\u001b[1;32m     22\u001b[0m \u001b[0;34m\u001b[0m\u001b[0m\n\u001b[0;32m---> 23\u001b[0;31m \u001b[0mobj\u001b[0m\u001b[0;34m=\u001b[0m\u001b[0mC\u001b[0m\u001b[0;34m(\u001b[0m\u001b[0;34m)\u001b[0m\u001b[0;34m\u001b[0m\u001b[0;34m\u001b[0m\u001b[0m\n\u001b[0m\u001b[1;32m     24\u001b[0m \u001b[0mobj\u001b[0m\u001b[0;34m.\u001b[0m\u001b[0mfeature1\u001b[0m\u001b[0;34m(\u001b[0m\u001b[0;34m)\u001b[0m\u001b[0;34m\u001b[0m\u001b[0;34m\u001b[0m\u001b[0m\n\u001b[1;32m     25\u001b[0m \u001b[0mobj\u001b[0m\u001b[0;34m.\u001b[0m\u001b[0mfeature2\u001b[0m\u001b[0;34m(\u001b[0m\u001b[0;34m)\u001b[0m\u001b[0;34m\u001b[0m\u001b[0;34m\u001b[0m\u001b[0m\n",
            "\u001b[0;31mTypeError\u001b[0m: A.__init__() missing 2 required positional arguments: 'f1' and 'f2'"
          ]
        }
      ]
    },
    {
      "cell_type": "markdown",
      "source": [
        "**DUCK Typing**"
      ],
      "metadata": {
        "id": "32KEXAAqXmVe"
      }
    },
    {
      "cell_type": "code",
      "source": [
        "class C:\n",
        "  def feature1(self):\n",
        "    print(\"class feature1\")\n",
        "\n",
        "class A:\n",
        "  def feature1(self):\n",
        "    print(\"class feature1\")\n",
        "\n",
        "class B:\n",
        "  def feature3(self,other):\n",
        "    other.feature1()\n",
        "\n",
        "objC=C()\n",
        "objA=A()\n",
        "objB=B()\n",
        "objB.feature3(objA)"
      ],
      "metadata": {
        "colab": {
          "base_uri": "https://localhost:8080/"
        },
        "id": "EqbbD_LcLQdH",
        "outputId": "8fac02ad-2e2c-42ed-e14c-384f69936c49"
      },
      "execution_count": null,
      "outputs": [
        {
          "output_type": "stream",
          "name": "stdout",
          "text": [
            "class feature1\n"
          ]
        }
      ]
    },
    {
      "cell_type": "markdown",
      "source": [
        "**OPERATOR Overloading**"
      ],
      "metadata": {
        "id": "25BjxxjJY5js"
      }
    },
    {
      "cell_type": "code",
      "source": [
        "a=10\n",
        "b=20\n",
        "print(a+b)\n",
        "print(int.__add__(a,b))\n",
        "\n",
        "a=\"Hello\"\n",
        "b=10\n",
        "\n"
      ],
      "metadata": {
        "id": "MM-6_jhrLkfr",
        "colab": {
          "base_uri": "https://localhost:8080/"
        },
        "outputId": "eec5a383-deb4-4315-bb9d-f007a2e3ef8a"
      },
      "execution_count": null,
      "outputs": [
        {
          "output_type": "stream",
          "name": "stdout",
          "text": [
            "30\n",
            "30\n"
          ]
        }
      ]
    },
    {
      "cell_type": "code",
      "source": [
        "class Sample:\n",
        "  def __init__(self,a,b):\n",
        "    self.a=a\n",
        "    self.b=b\n",
        "\n",
        "  def __add__(self,other):   #(obj1,obj2)\n",
        "    a= self.a + other.a\n",
        "    b= self.b + other.b\n",
        "    obj=Sample(a,b)\n",
        "    return(obj)\n",
        "\n",
        "obj1=Sample(10,20)\n",
        "obj2=Sample(30,40)\n",
        "obj3=obj1+obj2\n",
        "print(obj3.a,obj3.b)"
      ],
      "metadata": {
        "colab": {
          "base_uri": "https://localhost:8080/"
        },
        "id": "lRvzfACaZYSv",
        "outputId": "3d48fd7f-7e48-4fb1-aa47-e3d8d6a47cfb"
      },
      "execution_count": null,
      "outputs": [
        {
          "output_type": "stream",
          "name": "stdout",
          "text": [
            "40 60\n"
          ]
        }
      ]
    },
    {
      "cell_type": "code",
      "source": [
        "class Sample:\n",
        "  def __init__(self,a,b):\n",
        "    self.a=a\n",
        "    self.b=b\n",
        "\n",
        "  def __gt__(self,other):   #(obj1,obj2)\n",
        "    r1= self.a + self.b\n",
        "    r2= other.a + other.b\n",
        "    if r1>r2:\n",
        "      return True\n",
        "    else:\n",
        "      return False\n",
        "\n",
        "obj1=Sample(30,40)\n",
        "obj2=Sample(10,20)\n",
        "if obj1 > obj2:\n",
        "  print(\"obj1 is greater\")\n",
        "else:\n",
        "  print(\"obj2 is greater\")"
      ],
      "metadata": {
        "colab": {
          "base_uri": "https://localhost:8080/"
        },
        "id": "VdNa5tRzcJV9",
        "outputId": "03887671-962d-4410-f3a1-22adfef9ac80"
      },
      "execution_count": null,
      "outputs": [
        {
          "output_type": "stream",
          "name": "stdout",
          "text": [
            "obj1 is greater\n"
          ]
        }
      ]
    },
    {
      "cell_type": "markdown",
      "source": [
        "**METHOD Overloading**"
      ],
      "metadata": {
        "id": "K24C_n1yeGJv"
      }
    },
    {
      "cell_type": "code",
      "source": [
        "class Sample:\n",
        "  def __init__(self,M1,M2):\n",
        "    self.M1=M1\n",
        "    self.M2=M2\n",
        "\n",
        "  def feature1(self,a=None,b=None,c=None):\n",
        "    sum=0\n",
        "    if a!=None and b!=None and c!=None:\n",
        "      sum=a+b+c\n",
        "    elif a!=None and b!=None:\n",
        "      sum=a+b\n",
        "    else:\n",
        "      sum=a\n",
        "    return(sum)\n",
        "\n",
        "obj=Sample(10,20)\n",
        "print(obj.feature1(5,10))\n",
        "print(obj.feature1(5,10,15))"
      ],
      "metadata": {
        "colab": {
          "base_uri": "https://localhost:8080/"
        },
        "id": "YvmW-YE0dNi5",
        "outputId": "d5fa9f82-f755-4f45-a825-5540d8cb96c9"
      },
      "execution_count": null,
      "outputs": [
        {
          "output_type": "stream",
          "name": "stdout",
          "text": [
            "15\n",
            "30\n"
          ]
        }
      ]
    },
    {
      "cell_type": "markdown",
      "source": [
        "**LAMBDA FUNCTION**"
      ],
      "metadata": {
        "id": "JsCad4OyXWoV"
      }
    },
    {
      "cell_type": "code",
      "source": [
        "## Error\n",
        "\n",
        "nums = [3,2,6,8,4,6,2,9]\n",
        "f = lambda n : n%2==0\n",
        "f(nums)"
      ],
      "metadata": {
        "id": "igljaVSQgvbN",
        "colab": {
          "base_uri": "https://localhost:8080/",
          "height": 269
        },
        "outputId": "bc7bec21-8839-460e-d8e9-e13afc3fc6e6"
      },
      "execution_count": 1,
      "outputs": [
        {
          "output_type": "error",
          "ename": "TypeError",
          "evalue": "unsupported operand type(s) for %: 'list' and 'int'",
          "traceback": [
            "\u001b[0;31m---------------------------------------------------------------------------\u001b[0m",
            "\u001b[0;31mTypeError\u001b[0m                                 Traceback (most recent call last)",
            "\u001b[0;32m<ipython-input-1-cbf4ed1a867c>\u001b[0m in \u001b[0;36m<cell line: 0>\u001b[0;34m()\u001b[0m\n\u001b[1;32m      1\u001b[0m \u001b[0mnums\u001b[0m \u001b[0;34m=\u001b[0m \u001b[0;34m[\u001b[0m\u001b[0;36m3\u001b[0m\u001b[0;34m,\u001b[0m\u001b[0;36m2\u001b[0m\u001b[0;34m,\u001b[0m\u001b[0;36m6\u001b[0m\u001b[0;34m,\u001b[0m\u001b[0;36m8\u001b[0m\u001b[0;34m,\u001b[0m\u001b[0;36m4\u001b[0m\u001b[0;34m,\u001b[0m\u001b[0;36m6\u001b[0m\u001b[0;34m,\u001b[0m\u001b[0;36m2\u001b[0m\u001b[0;34m,\u001b[0m\u001b[0;36m9\u001b[0m\u001b[0;34m]\u001b[0m\u001b[0;34m\u001b[0m\u001b[0;34m\u001b[0m\u001b[0m\n\u001b[1;32m      2\u001b[0m \u001b[0mf\u001b[0m \u001b[0;34m=\u001b[0m \u001b[0;32mlambda\u001b[0m \u001b[0mn\u001b[0m \u001b[0;34m:\u001b[0m \u001b[0mn\u001b[0m\u001b[0;34m%\u001b[0m\u001b[0;36m2\u001b[0m\u001b[0;34m==\u001b[0m\u001b[0;36m0\u001b[0m\u001b[0;34m\u001b[0m\u001b[0;34m\u001b[0m\u001b[0m\n\u001b[0;32m----> 3\u001b[0;31m \u001b[0mf\u001b[0m\u001b[0;34m(\u001b[0m\u001b[0mnums\u001b[0m\u001b[0;34m)\u001b[0m\u001b[0;34m\u001b[0m\u001b[0;34m\u001b[0m\u001b[0m\n\u001b[0m",
            "\u001b[0;32m<ipython-input-1-cbf4ed1a867c>\u001b[0m in \u001b[0;36m<lambda>\u001b[0;34m(n)\u001b[0m\n\u001b[1;32m      1\u001b[0m \u001b[0mnums\u001b[0m \u001b[0;34m=\u001b[0m \u001b[0;34m[\u001b[0m\u001b[0;36m3\u001b[0m\u001b[0;34m,\u001b[0m\u001b[0;36m2\u001b[0m\u001b[0;34m,\u001b[0m\u001b[0;36m6\u001b[0m\u001b[0;34m,\u001b[0m\u001b[0;36m8\u001b[0m\u001b[0;34m,\u001b[0m\u001b[0;36m4\u001b[0m\u001b[0;34m,\u001b[0m\u001b[0;36m6\u001b[0m\u001b[0;34m,\u001b[0m\u001b[0;36m2\u001b[0m\u001b[0;34m,\u001b[0m\u001b[0;36m9\u001b[0m\u001b[0;34m]\u001b[0m\u001b[0;34m\u001b[0m\u001b[0;34m\u001b[0m\u001b[0m\n\u001b[0;32m----> 2\u001b[0;31m \u001b[0mf\u001b[0m \u001b[0;34m=\u001b[0m \u001b[0;32mlambda\u001b[0m \u001b[0mn\u001b[0m \u001b[0;34m:\u001b[0m \u001b[0mn\u001b[0m\u001b[0;34m%\u001b[0m\u001b[0;36m2\u001b[0m\u001b[0;34m==\u001b[0m\u001b[0;36m0\u001b[0m\u001b[0;34m\u001b[0m\u001b[0;34m\u001b[0m\u001b[0m\n\u001b[0m\u001b[1;32m      3\u001b[0m \u001b[0mf\u001b[0m\u001b[0;34m(\u001b[0m\u001b[0mnums\u001b[0m\u001b[0;34m)\u001b[0m\u001b[0;34m\u001b[0m\u001b[0;34m\u001b[0m\u001b[0m\n",
            "\u001b[0;31mTypeError\u001b[0m: unsupported operand type(s) for %: 'list' and 'int'"
          ]
        }
      ]
    },
    {
      "cell_type": "code",
      "source": [
        "## Correct\n",
        "\n",
        "from functools import reduce\n",
        "\n",
        "nums = [3,2,6,8,4,6,2,9]\n",
        "\n",
        "evens = list(filter(lambda n : n%2==0 , nums))\n",
        "print (evens)\n",
        "\n",
        "\n",
        "doubles = list(map(lambda n : n+2 , evens))\n",
        "print (doubles)"
      ],
      "metadata": {
        "colab": {
          "base_uri": "https://localhost:8080/"
        },
        "id": "gkabkIvpXxfK",
        "outputId": "53a789c0-0b9c-4704-a33e-d296f5176b38"
      },
      "execution_count": null,
      "outputs": [
        {
          "output_type": "stream",
          "name": "stdout",
          "text": [
            "[2, 6, 8, 4, 6, 2]\n",
            "[4, 8, 10, 6, 8, 4]\n"
          ]
        }
      ]
    },
    {
      "cell_type": "markdown",
      "source": [
        "**ROUND **"
      ],
      "metadata": {
        "id": "FV1EbLuqZcVX"
      }
    },
    {
      "cell_type": "code",
      "source": [
        "circle_area=[3.55345,5.4654,4.465455,56.465465,9.6543454,32.65353554]\n",
        "result = list(map(round,circle_area,range(1,7))) #round is a function\n",
        "print(result)"
      ],
      "metadata": {
        "colab": {
          "base_uri": "https://localhost:8080/"
        },
        "id": "obI1FjHfYkW_",
        "outputId": "09c04f0e-a4e4-4663-8d2f-3727ea616620"
      },
      "execution_count": null,
      "outputs": [
        {
          "output_type": "stream",
          "name": "stdout",
          "text": [
            "[3.6, 5.47, 4.465, 56.4655, 9.65435, 32.653536]\n"
          ]
        }
      ]
    },
    {
      "cell_type": "code",
      "source": [
        "my_pets = ['alfred','tabitha','william','arla']\n",
        "uppered_pets = []\n",
        "\n",
        "for pet in my_pets:\n",
        "  pet = pet.upper()\n",
        "  uppered_pets.append(pet)\n",
        "\n",
        "print (uppered_pets)"
      ],
      "metadata": {
        "colab": {
          "base_uri": "https://localhost:8080/"
        },
        "id": "wWoIXwyGY_Rs",
        "outputId": "785be58a-d8f4-4aeb-b3bb-7b9d55a523d1"
      },
      "execution_count": null,
      "outputs": [
        {
          "output_type": "stream",
          "name": "stdout",
          "text": [
            "['ALFRED', 'TABITHA', 'WILLIAM', 'ARLA']\n"
          ]
        }
      ]
    },
    {
      "cell_type": "markdown",
      "source": [
        "**ZIP**"
      ],
      "metadata": {
        "id": "mDzG0qnab8Lb"
      }
    },
    {
      "cell_type": "code",
      "source": [
        "my_strings = ['a','b','c','d','e']\n",
        "my_numbers = [1,2,3,4,5]\n",
        "\n",
        "result1 = list(zip(my_strings,my_numbers))\n",
        "print(result1)\n",
        "\n",
        "\n",
        "result2 = list(map(lambda x,y : (x,y) , my_strings,my_numbers))\n",
        "print(result2)\n"
      ],
      "metadata": {
        "colab": {
          "base_uri": "https://localhost:8080/"
        },
        "id": "hOAm-P1GbNhQ",
        "outputId": "023260c0-32bb-4705-fb4e-d5bf4e214fdb"
      },
      "execution_count": null,
      "outputs": [
        {
          "output_type": "stream",
          "name": "stdout",
          "text": [
            "[('a', 1), ('b', 2), ('c', 3), ('d', 4), ('e', 5)]\n",
            "[('a', 1), ('b', 2), ('c', 3), ('d', 4), ('e', 5)]\n"
          ]
        }
      ]
    },
    {
      "cell_type": "markdown",
      "source": [],
      "metadata": {
        "id": "9DV1jCIVduL2"
      }
    },
    {
      "cell_type": "code",
      "source": [
        "scores = [66,54,45,77,88,99]\n",
        "\n",
        "def is_a_student(score):\n",
        "  return score > 75\n",
        "\n",
        "over_75 = list(filter(is_a_student,scores))\n",
        "\n",
        "print(over_75)"
      ],
      "metadata": {
        "colab": {
          "base_uri": "https://localhost:8080/"
        },
        "id": "IMVmuFsvd0FG",
        "outputId": "1bbf6323-9da7-4670-9b2f-84468f8603b6"
      },
      "execution_count": null,
      "outputs": [
        {
          "output_type": "stream",
          "name": "stdout",
          "text": [
            "[77, 88, 99]\n"
          ]
        }
      ]
    },
    {
      "cell_type": "markdown",
      "source": [
        "**REDUCE**"
      ],
      "metadata": {
        "id": "BbPMZRGeeftt"
      }
    },
    {
      "cell_type": "code",
      "source": [
        "from functools import reduce\n",
        "num = [3,4,6,9,34,12]\n",
        "\n",
        "def custom_sum (first,second):\n",
        "  return first + second\n",
        "\n",
        "result = reduce(custom_sum,num)  #takes two num at a time from num list\n",
        "print(result)"
      ],
      "metadata": {
        "colab": {
          "base_uri": "https://localhost:8080/"
        },
        "id": "BMfTvN2DeY2Z",
        "outputId": "3369c8d2-f96c-4ad5-e703-6cec3a88e574"
      },
      "execution_count": null,
      "outputs": [
        {
          "output_type": "stream",
          "name": "stdout",
          "text": [
            "68\n"
          ]
        }
      ]
    },
    {
      "cell_type": "code",
      "source": [
        "from functools import reduce\n",
        "num = [3,4,6,9,34,12]\n",
        "\n",
        "def custom_sum (first,second):\n",
        "  return first + second\n",
        "\n",
        "result = reduce(custom_sum,num,10)  #takes two num at a time from num list\n",
        "print(result)"
      ],
      "metadata": {
        "colab": {
          "base_uri": "https://localhost:8080/"
        },
        "id": "rqwnSwSEfKk0",
        "outputId": "7499548a-c633-437f-d8bd-32ae2e0f968c"
      },
      "execution_count": null,
      "outputs": [
        {
          "output_type": "stream",
          "name": "stdout",
          "text": [
            "78\n"
          ]
        }
      ]
    },
    {
      "cell_type": "markdown",
      "source": [
        "type of errors :\n",
        "1. zerodivisionerror\n",
        "2. nameerror (undifined)\n",
        "3. typeerror (string + int )"
      ],
      "metadata": {
        "id": "biwOpuaRgd6s"
      }
    },
    {
      "cell_type": "markdown",
      "source": [
        "**HANDLE EXCEPTION**"
      ],
      "metadata": {
        "id": "QCx4KdvdhOtB"
      }
    },
    {
      "cell_type": "code",
      "source": [
        "try:\n",
        "  result = 10/0\n",
        "except ZeroDivisionError:\n",
        "  print (\"Error : Cannot divide by zero.\")"
      ],
      "metadata": {
        "colab": {
          "base_uri": "https://localhost:8080/"
        },
        "id": "-L9dsZvohTct",
        "outputId": "2b49e150-ca34-4925-c9a0-cf94ac28a5c9"
      },
      "execution_count": null,
      "outputs": [
        {
          "output_type": "stream",
          "name": "stdout",
          "text": [
            "Error : Cannot divide by zero.\n"
          ]
        }
      ]
    },
    {
      "cell_type": "code",
      "source": [
        "try:\n",
        "  result = int(\"text\")\n",
        "except (ValueError,TypeError) as e:\n",
        "  print (\"Error :\",e)"
      ],
      "metadata": {
        "colab": {
          "base_uri": "https://localhost:8080/"
        },
        "id": "X5BgeUOchrrD",
        "outputId": "156f8664-785a-4805-f194-808a1b3fd4f5"
      },
      "execution_count": null,
      "outputs": [
        {
          "output_type": "stream",
          "name": "stdout",
          "text": [
            "Error : invalid literal for int() with base 10: 'text'\n"
          ]
        }
      ]
    },
    {
      "cell_type": "markdown",
      "source": [
        "cProfiler(Built-in Profiler)\n",
        "\n",
        "It is built in python profiler that analyze the execution time of different pars of your code."
      ],
      "metadata": {
        "id": "JBPuT2NYk2kU"
      }
    },
    {
      "cell_type": "code",
      "source": [
        "import cProfile\n",
        "\n",
        "def slow_fun():\n",
        "  total = 0\n",
        "  for i in range(1000000):\n",
        "    total += i\n",
        "    return total\n",
        "\n",
        "cProfile.run('slow_fun()')"
      ],
      "metadata": {
        "colab": {
          "base_uri": "https://localhost:8080/"
        },
        "id": "Ev2r-gL5iUyB",
        "outputId": "96869cf4-0f76-4315-e4aa-1c84d5adad18"
      },
      "execution_count": null,
      "outputs": [
        {
          "output_type": "stream",
          "name": "stdout",
          "text": [
            "         4 function calls in 0.000 seconds\n",
            "\n",
            "   Ordered by: standard name\n",
            "\n",
            "   ncalls  tottime  percall  cumtime  percall filename:lineno(function)\n",
            "        1    0.000    0.000    0.000    0.000 <ipython-input-21-4a2bc3bc3774>:3(slow_fun)\n",
            "        1    0.000    0.000    0.000    0.000 <string>:1(<module>)\n",
            "        1    0.000    0.000    0.000    0.000 {built-in method builtins.exec}\n",
            "        1    0.000    0.000    0.000    0.000 {method 'disable' of '_lsprof.Profiler' objects}\n",
            "\n",
            "\n"
          ]
        }
      ]
    },
    {
      "cell_type": "code",
      "source": [
        "pip install line-profiler"
      ],
      "metadata": {
        "colab": {
          "base_uri": "https://localhost:8080/"
        },
        "id": "k50ocm7Qqekq",
        "outputId": "6fae4a1b-0b4c-438c-95ca-7c41230f30fa"
      },
      "execution_count": null,
      "outputs": [
        {
          "output_type": "stream",
          "name": "stdout",
          "text": [
            "Collecting line-profiler\n",
            "  Downloading line_profiler-4.2.0-cp311-cp311-manylinux_2_17_x86_64.manylinux2014_x86_64.whl.metadata (34 kB)\n",
            "Downloading line_profiler-4.2.0-cp311-cp311-manylinux_2_17_x86_64.manylinux2014_x86_64.whl (750 kB)\n",
            "\u001b[?25l   \u001b[90m━━━━━━━━━━━━━━━━━━━━━━━━━━━━━━━━━━━━━━━━\u001b[0m \u001b[32m0.0/750.2 kB\u001b[0m \u001b[31m?\u001b[0m eta \u001b[36m-:--:--\u001b[0m\r\u001b[2K   \u001b[91m━━━━━━━━━━━━━━━\u001b[0m\u001b[90m╺\u001b[0m\u001b[90m━━━━━━━━━━━━━━━━━━━━━━━━\u001b[0m \u001b[32m286.7/750.2 kB\u001b[0m \u001b[31m8.5 MB/s\u001b[0m eta \u001b[36m0:00:01\u001b[0m\r\u001b[2K   \u001b[90m━━━━━━━━━━━━━━━━━━━━━━━━━━━━━━━━━━━━━━━━\u001b[0m \u001b[32m750.2/750.2 kB\u001b[0m \u001b[31m11.8 MB/s\u001b[0m eta \u001b[36m0:00:00\u001b[0m\n",
            "\u001b[?25hInstalling collected packages: line-profiler\n",
            "Successfully installed line-profiler-4.2.0\n"
          ]
        }
      ]
    },
    {
      "cell_type": "code",
      "source": [
        "from line_profiler import LineProfiler\n",
        "\n",
        "def slow_fun():\n",
        "  total = 0\n",
        "  for i in range(1000000):\n",
        "    total += i\n",
        "\n",
        "  return total\n",
        "\n",
        "profiler =LineProfiler()\n",
        "profiler.add_function(slow_fun)\n",
        "profiler.enable()\n",
        "slow_fun()\n",
        "profiler.disable()\n",
        "profiler.print_stats()\n"
      ],
      "metadata": {
        "colab": {
          "base_uri": "https://localhost:8080/"
        },
        "id": "6pal1UWslv3G",
        "outputId": "ecb3110f-0f36-4cc2-d9a4-e3c72b88cac4"
      },
      "execution_count": null,
      "outputs": [
        {
          "output_type": "stream",
          "name": "stdout",
          "text": [
            "Timer unit: 1e-09 s\n",
            "\n",
            "Total time: 0.819289 s\n",
            "File: <ipython-input-11-caaec7355fb3>\n",
            "Function: slow_fun at line 3\n",
            "\n",
            "Line #      Hits         Time  Per Hit   % Time  Line Contents\n",
            "==============================================================\n",
            "     3                                           def slow_fun():\n",
            "     4         1       1637.0   1637.0      0.0    total = 0\n",
            "     5   1000001  367250176.0    367.2     44.8    for i in range(1000000):\n",
            "     6   1000000  452036706.0    452.0     55.2      total += i\n",
            "     7                                               \n",
            "     8         1        921.0    921.0      0.0    return total\n",
            "\n"
          ]
        }
      ]
    },
    {
      "cell_type": "code",
      "source": [
        "def count_up_to(n):\n",
        "      i = 1\n",
        "      while i <= n:\n",
        "        yield i\n",
        "        i += 1\n",
        "\n",
        "for num in count_up_to(5):\n",
        "  print(num)"
      ],
      "metadata": {
        "id": "w4FokttWrAFi",
        "colab": {
          "base_uri": "https://localhost:8080/",
          "height": 106
        },
        "outputId": "402b0628-961c-47ba-ee04-866212a7bf2c"
      },
      "execution_count": null,
      "outputs": [
        {
          "output_type": "error",
          "ename": "SyntaxError",
          "evalue": "invalid syntax (<ipython-input-17-8f39132dcb86>, line 1)",
          "traceback": [
            "\u001b[0;36m  File \u001b[0;32m\"<ipython-input-17-8f39132dcb86>\"\u001b[0;36m, line \u001b[0;32m1\u001b[0m\n\u001b[0;31m    def count_up_to(5):\u001b[0m\n\u001b[0m                    ^\u001b[0m\n\u001b[0;31mSyntaxError\u001b[0m\u001b[0;31m:\u001b[0m invalid syntax\n"
          ]
        }
      ]
    },
    {
      "cell_type": "code",
      "source": [
        "pip install numpy"
      ],
      "metadata": {
        "id": "erXjwbhchwGD",
        "colab": {
          "base_uri": "https://localhost:8080/"
        },
        "outputId": "0fb923ee-fda1-42f1-97e9-27f9f0efecb9"
      },
      "execution_count": null,
      "outputs": [
        {
          "output_type": "stream",
          "name": "stdout",
          "text": [
            "Requirement already satisfied: numpy in /usr/local/lib/python3.11/dist-packages (2.0.2)\n"
          ]
        }
      ]
    },
    {
      "cell_type": "code",
      "source": [
        "import numpy as np\n",
        "\n",
        "arr = np.array([1, 2, 3, 4, 5])\n",
        "print(arr)  # Output: [1 2 3 4 5]"
      ],
      "metadata": {
        "colab": {
          "base_uri": "https://localhost:8080/"
        },
        "id": "y-3ICd5oh3nr",
        "outputId": "3823bca0-149e-4675-9c77-8ea5f54fdc15"
      },
      "execution_count": null,
      "outputs": [
        {
          "output_type": "stream",
          "name": "stdout",
          "text": [
            "[1 2 3 4 5]\n"
          ]
        }
      ]
    },
    {
      "cell_type": "code",
      "source": [
        "matrix = np.array([[1, 2, 3], [4, 5, 6]])\n",
        "print(matrix)"
      ],
      "metadata": {
        "colab": {
          "base_uri": "https://localhost:8080/"
        },
        "id": "Xnsfbctbh90D",
        "outputId": "6897a902-9c30-4229-bb75-38421428e64e"
      },
      "execution_count": null,
      "outputs": [
        {
          "output_type": "stream",
          "name": "stdout",
          "text": [
            "[[1 2 3]\n",
            " [4 5 6]]\n"
          ]
        }
      ]
    },
    {
      "cell_type": "code",
      "source": [
        "zeros = np.zeros((2, 3))  # 2x3 matrix of zeros\n",
        "ones = np.ones((3, 3))    # 3x3 matrix of ones\n",
        "rand = np.random.rand(3, 3)  # 3x3 matrix with random values"
      ],
      "metadata": {
        "id": "04JkZTRgiPjN"
      },
      "execution_count": null,
      "outputs": []
    },
    {
      "cell_type": "code",
      "source": [
        "arr = np.array([[1, 2, 3], [4, 5, 6]])\n",
        "\n",
        "print(arr.shape)  # (2, 3) -> Rows x Columns\n",
        "print(arr.size)   # 6 -> Total number of elements\n",
        "print(arr.ndim)   # 2 -> Number of dimensions\n",
        "print(arr.dtype)  # int64 -> Data type\n",
        "arr = np.array([10, 20, 30, 40, 50])\n",
        "print(arr[0])    # 10 (First element)\n",
        "print(arr[-1])   # 50 (Last element)"
      ],
      "metadata": {
        "colab": {
          "base_uri": "https://localhost:8080/"
        },
        "id": "hQM0FdrJiVaU",
        "outputId": "f4ade28b-d7c6-4b21-fe04-891d8e9bb97d"
      },
      "execution_count": null,
      "outputs": [
        {
          "output_type": "stream",
          "name": "stdout",
          "text": [
            "(2, 3)\n",
            "6\n",
            "2\n",
            "int64\n",
            "10\n",
            "50\n"
          ]
        }
      ]
    },
    {
      "cell_type": "code",
      "source": [
        "matrix = np.array([[1, 2, 3], [4, 5, 6]])\n",
        "print(matrix[1, 2])  # 6 (Row 1, Column 2)"
      ],
      "metadata": {
        "colab": {
          "base_uri": "https://localhost:8080/"
        },
        "id": "h9YdjYEWtz1a",
        "outputId": "d5ba655a-c2fa-41a2-8965-dc407236650f"
      },
      "execution_count": null,
      "outputs": [
        {
          "output_type": "stream",
          "name": "stdout",
          "text": [
            "6\n"
          ]
        }
      ]
    },
    {
      "cell_type": "code",
      "source": [
        "arr = np.array([10, 20, 30, 40, 50])\n",
        "print(arr[1:4])   # [20 30 40]\n",
        "print(arr[:3])    # [10 20 30]\n",
        "print(arr[-3:])   # [30 40 50]"
      ],
      "metadata": {
        "colab": {
          "base_uri": "https://localhost:8080/"
        },
        "id": "Ulhftj-Ut2u8",
        "outputId": "d3e34dee-9c60-45de-8936-ff81b303f09e"
      },
      "execution_count": null,
      "outputs": [
        {
          "output_type": "stream",
          "name": "stdout",
          "text": [
            "[20 30 40]\n",
            "[10 20 30]\n",
            "[30 40 50]\n"
          ]
        }
      ]
    },
    {
      "cell_type": "code",
      "source": [
        "a = np.array([1, 2, 3])\n",
        "b = np.array([4, 5, 6])\n",
        "print(a + b)  # [5 7 9]\n",
        "print(a * b)  # [4 10 18]\n",
        "print(a ** 2) # [1 4 9]"
      ],
      "metadata": {
        "colab": {
          "base_uri": "https://localhost:8080/"
        },
        "id": "6f_R_Bjct8FU",
        "outputId": "5dfcda9d-c3fd-454c-e4ad-0b0ca7cbf7c6"
      },
      "execution_count": null,
      "outputs": [
        {
          "output_type": "stream",
          "name": "stdout",
          "text": [
            "[5 7 9]\n",
            "[ 4 10 18]\n",
            "[1 4 9]\n"
          ]
        }
      ]
    },
    {
      "cell_type": "code",
      "source": [
        "arr = np.array([10, 20, 30, 40])\n",
        "\n",
        "print(arr.sum())  # 100\n",
        "print(arr.mean()) # 25.0\n",
        "print(arr.max())  # 40\n",
        "print(arr.min())  # 10\n",
        "print(arr.std())  # Standard deviation"
      ],
      "metadata": {
        "colab": {
          "base_uri": "https://localhost:8080/"
        },
        "id": "dfpLxWHduCpU",
        "outputId": "892aff5f-1d17-4be9-8b4f-404ce165795b"
      },
      "execution_count": null,
      "outputs": [
        {
          "output_type": "stream",
          "name": "stdout",
          "text": [
            "100\n",
            "25.0\n",
            "40\n",
            "10\n",
            "11.180339887498949\n"
          ]
        }
      ]
    },
    {
      "cell_type": "code",
      "source": [
        "arr = np.array([1, 2, 3, 4, 5, 6])\n",
        "reshaped = arr.reshape((2, 3))  # 2 rows, 3 columns\n",
        "print(reshaped)"
      ],
      "metadata": {
        "colab": {
          "base_uri": "https://localhost:8080/"
        },
        "id": "qcUeHwtOuFKZ",
        "outputId": "0a8a67ee-9091-4b37-c86f-5737f9eb2500"
      },
      "execution_count": null,
      "outputs": [
        {
          "output_type": "stream",
          "name": "stdout",
          "text": [
            "[[1 2 3]\n",
            " [4 5 6]]\n"
          ]
        }
      ]
    },
    {
      "cell_type": "code",
      "source": [
        "matrix = np.array([[1, 2, 3], [4, 5, 6]])\n",
        "print(matrix.T)  # Transpose (flips rows and columns)"
      ],
      "metadata": {
        "colab": {
          "base_uri": "https://localhost:8080/"
        },
        "id": "45vxReOwuHbv",
        "outputId": "bf2fe0b6-70f9-4ead-8da9-7d2d4ac70faa"
      },
      "execution_count": null,
      "outputs": [
        {
          "output_type": "stream",
          "name": "stdout",
          "text": [
            "[[1 4]\n",
            " [2 5]\n",
            " [3 6]]\n"
          ]
        }
      ]
    },
    {
      "cell_type": "code",
      "source": [
        "a = np.array([1, 2, 3])\n",
        "b = np.array([4, 5, 6])\n",
        "\n",
        "print(np.hstack((a, b)))  # Horizontal stack\n",
        "print(np.vstack((a, b)))  # Vertical stack"
      ],
      "metadata": {
        "colab": {
          "base_uri": "https://localhost:8080/"
        },
        "id": "5niqgTb4uL3X",
        "outputId": "a8fef336-491e-4362-c16e-ed4cc77a36a1"
      },
      "execution_count": null,
      "outputs": [
        {
          "output_type": "stream",
          "name": "stdout",
          "text": [
            "[1 2 3 4 5 6]\n",
            "[[1 2 3]\n",
            " [4 5 6]]\n"
          ]
        }
      ]
    },
    {
      "cell_type": "code",
      "source": [
        "arr = np.array([1, 2, 3, 4, 5, 6])\n",
        "print(np.split(arr, 2))  # Split into 2 parts"
      ],
      "metadata": {
        "colab": {
          "base_uri": "https://localhost:8080/"
        },
        "id": "vK-tWl1nuOGh",
        "outputId": "d1f43dc1-4ed2-4460-9c6a-0ac6ca57291d"
      },
      "execution_count": null,
      "outputs": [
        {
          "output_type": "stream",
          "name": "stdout",
          "text": [
            "[array([1, 2, 3]), array([4, 5, 6])]\n"
          ]
        }
      ]
    },
    {
      "cell_type": "code",
      "source": [
        "arr = np.array([10, 20, 30, 40, 50])\n",
        "print(arr[arr > 25])  # [30 40 50]"
      ],
      "metadata": {
        "colab": {
          "base_uri": "https://localhost:8080/"
        },
        "id": "0SDVmRdcuQE2",
        "outputId": "85e96995-8fa8-454d-89fb-9fa4d281517f"
      },
      "execution_count": null,
      "outputs": [
        {
          "output_type": "stream",
          "name": "stdout",
          "text": [
            "[30 40 50]\n"
          ]
        }
      ]
    },
    {
      "cell_type": "code",
      "source": [
        "arr = np.array([1, 2, 3, 4, 5])\n",
        "print(np.where(arr % 2 == 0, \"Even\", \"Odd\"))  # ['Odd' 'Even' 'Odd' 'Even' 'Odd']"
      ],
      "metadata": {
        "colab": {
          "base_uri": "https://localhost:8080/"
        },
        "id": "_6SbzNrsuSqv",
        "outputId": "2c78fdbd-0228-45c0-910f-ff1006b229c5"
      },
      "execution_count": null,
      "outputs": [
        {
          "output_type": "stream",
          "name": "stdout",
          "text": [
            "['Odd' 'Even' 'Odd' 'Even' 'Odd']\n"
          ]
        }
      ]
    },
    {
      "cell_type": "code",
      "source": [
        "a = np.array([[1, 2], [3, 4]])\n",
        "b = np.array([[5, 6], [7, 8]])\n",
        "\n",
        "print(np.dot(a, b))  # Matrix multiplication"
      ],
      "metadata": {
        "colab": {
          "base_uri": "https://localhost:8080/"
        },
        "id": "AFRQnOPPuWns",
        "outputId": "6149a1e8-432b-4884-e930-523386acce47"
      },
      "execution_count": null,
      "outputs": [
        {
          "output_type": "stream",
          "name": "stdout",
          "text": [
            "[[19 22]\n",
            " [43 50]]\n"
          ]
        }
      ]
    },
    {
      "cell_type": "code",
      "source": [
        "matrix = np.array([[1, 2], [3, 4]])\n",
        "print(np.linalg.det(matrix))"
      ],
      "metadata": {
        "colab": {
          "base_uri": "https://localhost:8080/"
        },
        "id": "sop66zqQub_j",
        "outputId": "270f445d-520f-4d5d-c3c5-a83cf2daf660"
      },
      "execution_count": null,
      "outputs": [
        {
          "output_type": "stream",
          "name": "stdout",
          "text": [
            "-2.0000000000000004\n"
          ]
        }
      ]
    },
    {
      "cell_type": "code",
      "source": [
        "matrix = np.array([[2, 3], [3, 4]])\n",
        "eigenvalues, eigenvectors = np.linalg.eig(matrix)\n",
        "print(eigenvalues)\n",
        "print(eigenvectors)"
      ],
      "metadata": {
        "colab": {
          "base_uri": "https://localhost:8080/"
        },
        "id": "NgqAYMNWueQP",
        "outputId": "acc395e3-e376-43e0-ee7e-642bddce9683"
      },
      "execution_count": null,
      "outputs": [
        {
          "output_type": "stream",
          "name": "stdout",
          "text": [
            "[-0.16227766  6.16227766]\n",
            "[[-0.81124219 -0.58471028]\n",
            " [ 0.58471028 -0.81124219]]\n"
          ]
        }
      ]
    },
    {
      "cell_type": "code",
      "source": [
        "arr = np.array([1, 2, 3, 4, 5])\n",
        "\n",
        "np.save('array.npy', arr)  # Save\n",
        "loaded_arr = np.load('array.npy')  # Load\n",
        "print(loaded_arr)"
      ],
      "metadata": {
        "colab": {
          "base_uri": "https://localhost:8080/"
        },
        "id": "EZt-41MDuggc",
        "outputId": "d092d425-e106-4de6-a57e-2877e289975f"
      },
      "execution_count": null,
      "outputs": [
        {
          "output_type": "stream",
          "name": "stdout",
          "text": [
            "[1 2 3 4 5]\n"
          ]
        }
      ]
    },
    {
      "cell_type": "code",
      "source": [
        "import numpy as np\n",
        "import time\n",
        "\n",
        "size = 10**6\n",
        "\n",
        "# Python List\n",
        "python_list = list(range(size))\n",
        "start = time.time()\n",
        "python_result = [x * 2 for x in python_list]\n",
        "end = time.time()\n",
        "print(f\"Python List Time: {end - start:.5f} sec\")\n",
        "\n",
        "# NumPy Array\n",
        "numpy_array = np.arange(size)\n",
        "start = time.time()\n",
        "numpy_result = numpy_array * 2\n",
        "end = time.time()\n",
        "print(f\"NumPy Array Time: {end - start:.5f} sec\")"
      ],
      "metadata": {
        "colab": {
          "base_uri": "https://localhost:8080/"
        },
        "id": "D5UmESJNjmRz",
        "outputId": "3f64eeae-e253-4ea1-ef38-372781c2d4cf"
      },
      "execution_count": null,
      "outputs": [
        {
          "output_type": "stream",
          "name": "stdout",
          "text": [
            "Python List Time: 0.21576 sec\n",
            "NumPy Array Time: 0.00866 sec\n"
          ]
        }
      ]
    },
    {
      "cell_type": "code",
      "source": [],
      "metadata": {
        "id": "xNefGelvj5Qd"
      },
      "execution_count": null,
      "outputs": []
    }
  ]
}